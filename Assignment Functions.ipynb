{
 "cells": [
  {
   "cell_type": "code",
   "execution_count": null,
   "id": "b5146ffc",
   "metadata": {},
   "outputs": [],
   "source": [
    "# 1. What is the difference between a function and a method in Python?\n",
    "\n",
    "# A function is a block of code to which we call by name whereas method is also a function but can't be called stand alone, \n",
    "# it should be used with its object \n",
    "\n",
    "# functions are independent but methods are linked to classes or objects\n",
    "\n",
    "\n",
    "# we can define function using def keyword\n",
    "\n",
    "\n",
    "#Example:\n",
    "\n",
    "# def func(x)\n",
    "\n",
    "# a.upper()  # upper() is Method of string\n"
   ]
  },
  {
   "cell_type": "code",
   "execution_count": 26,
   "id": "dda949a9",
   "metadata": {},
   "outputs": [
    {
     "data": {
      "text/plain": [
       "15"
      ]
     },
     "execution_count": 26,
     "metadata": {},
     "output_type": "execute_result"
    }
   ],
   "source": [
    "# 2. Explain the concept of function arguments and parameters in Python.\n",
    "\n",
    "# Parameters are the variable names which we pass inside the function defination while defining a function\n",
    "# While arguments are the real values which we pass while calling a function\n",
    "\n",
    "\n",
    "\n",
    "def add(a, b):   # a and b are parameters\n",
    "    return a + b\n",
    "\n",
    "\n",
    "add(5, 10) ## arguments"
   ]
  },
  {
   "cell_type": "code",
   "execution_count": null,
   "id": "a2d5dff4",
   "metadata": {},
   "outputs": [],
   "source": [
    "# 3. What are the different ways to define and call a function in Python?\n",
    "\n",
    "# There are several ways to define and call a function some of them are :\n",
    "\n",
    "# 1) def func(a,b):\n",
    "        defination\n",
    "    \n",
    "#  func(5,10)  # calling\n",
    "\n",
    "\n",
    "#2) Lambda function\n",
    "\n",
    "add=lambda x: x+5\n",
    "\n",
    "\n",
    "#3) Calling inbuilt function like:\n",
    "  print(), len()\n",
    "    \n",
    "#4)  We can call function inside function too "
   ]
  },
  {
   "cell_type": "code",
   "execution_count": null,
   "id": "d1bd284e",
   "metadata": {},
   "outputs": [],
   "source": [
    "# 4. What is the purpose of the `return` statement in a Python function?\n",
    "\n",
    "# return function is almost similar to print statement  where print statement directly print the output on screen\n",
    "# and return statement return the output to the calling function\n",
    "\n",
    "\n",
    "# once output is sent to the function then the execution stops\n",
    "\n",
    "\n",
    "def add(a, b):\n",
    "    return a + b\n"
   ]
  },
  {
   "cell_type": "code",
   "execution_count": null,
   "id": "96b1ac8d",
   "metadata": {},
   "outputs": [],
   "source": [
    "# 5. What are iterators in Python and how do they differ from iterables?\n",
    "\n",
    "\n",
    "# Iterable is any object/data structure, data type in python on which we can go to element one after another.\n",
    "# Like list, string,tuple\n",
    "# or we can say those which can be used with loops are iterables\n",
    "\n",
    "\n",
    "\n",
    "# Iterator is an object which holds the current value and let us know where we are in the sequence \n",
    "\n",
    "# lst = [10, 20, 30]   # this is iterable\n",
    "# it = iter(lst)       # this is iterator\n",
    "\n",
    "# print(next(it))   # 10\n",
    "# print(next(it))   # 20\n",
    "# print(next(it))   # 30\n"
   ]
  },
  {
   "cell_type": "code",
   "execution_count": null,
   "id": "3e754818",
   "metadata": {},
   "outputs": [],
   "source": [
    "# 6. Explain the concept of generators in Python and how they are defined.\n",
    "\n",
    "# Genertor is like a function which gives the values one by one unlike other function which throws all the value together \n",
    "# at the end\n",
    "\n",
    "# here yield() is used to get the next value\n",
    "\n",
    "# It helps in saving memory specially when we work with big amount of data\n",
    "\n",
    "def power(x):\n",
    "    for i in range(x+1):\n",
    "        yield(2**(i))\n",
    "        \n",
    "a=int(input())\n",
    "ob=power(a)"
   ]
  },
  {
   "cell_type": "code",
   "execution_count": null,
   "id": "dd8f6740",
   "metadata": {},
   "outputs": [],
   "source": [
    "# 7. What are the advantages of using generators over regular functions?\n",
    "\n",
    "\n",
    "# it helps in Memory Saving where normal function holod all the previous outputs and space for each one of them\n",
    "# This generator function gives output one by one whenever asked to save memory \n",
    "\n",
    "# it is much faster then regular functions\n",
    "\n",
    "# very easy to write using yield"
   ]
  },
  {
   "cell_type": "code",
   "execution_count": 27,
   "id": "3ca4079a",
   "metadata": {},
   "outputs": [
    {
     "data": {
      "text/plain": [
       "<function __main__.<lambda>(x)>"
      ]
     },
     "execution_count": 27,
     "metadata": {},
     "output_type": "execute_result"
    }
   ],
   "source": [
    "# 8. What is a lambda function in Python and when is it typically used?\n",
    "\n",
    "# lambda function also known as anonyms function or one liner function, because it doesnt have any name like regular \n",
    "# functions or variables\n",
    "\n",
    "# It is used in small and quick task where we don't need to define whole big function\n",
    "\n",
    "# it can be used with : map , filter,reduce,sorted\n",
    "\n",
    "lambda x: x + 5\n",
    "\n"
   ]
  },
  {
   "cell_type": "code",
   "execution_count": 28,
   "id": "d74bf7e3",
   "metadata": {},
   "outputs": [
    {
     "data": {
      "text/plain": [
       "[1, 4, 9, 16]"
      ]
     },
     "execution_count": 28,
     "metadata": {},
     "output_type": "execute_result"
    }
   ],
   "source": [
    "# 9. Explain the purpose and usage of the `map()` function in Python.\n",
    "\n",
    "# a map() is a inbilt function which is used we we want to apply any work to each and every element or iterable like list\n",
    "# it makes code shorter and helps us avoid using long loop codes \n",
    "\n",
    "\n",
    "nums = [1, 2, 3, 4]\n",
    "list(map(lambda x: x**2, nums))\n",
    "\n"
   ]
  },
  {
   "cell_type": "code",
   "execution_count": null,
   "id": "d59b8bb5",
   "metadata": {},
   "outputs": [],
   "source": [
    "# 10. What is the difference between `map()`, `reduce()`, and `filter()` functions in Python?\n",
    "\n",
    "# map() => # a map() is a inbilt function which is used we we want to apply any work to each and every element or \n",
    "# iterable like list\n",
    "\n",
    "nums = [1, 2, 3, 4]\n",
    "list(map(lambda x: x**2, nums))\n",
    "\n",
    "\n",
    "# filter() => applies a function to each element, but only keeps the elements where the function returns True\n",
    "num=[1,2,3,4,5]\n",
    "\n",
    "list(filter(lambda x :x%2==0,num))\n",
    "\n",
    "# reduce() =>it keeps combining the elements to reduce them to a single value\n",
    "\n",
    "from functools import reduce\n",
    "\n",
    "num=[1,2,3,4,5]\n",
    "\n",
    "reduce(lambda x,y: x+y,num) \n"
   ]
  },
  {
   "cell_type": "code",
   "execution_count": null,
   "id": "93c9d18b",
   "metadata": {},
   "outputs": [],
   "source": [
    "# 11. Using pen & Paper write the internal mechanism for sum operation using  reduce function on this given\n",
    "# list:[47,11,42,13]; \n",
    "\n",
    "\n",
    "First step:\n",
    "x = 47 (first element)\n",
    "y = 11 (second element)\n",
    "47 + 11 = 58\n",
    "\n",
    "Second step:\n",
    "now, x = 58 (previous result)\n",
    "y = 42 (next element)\n",
    "58 + 42 = 100\n",
    "\n",
    "Third step:\n",
    "now, x = 100\n",
    "y = 13\n",
    "100 + 13 = 113\n",
    "\n",
    "So final reduce result is 113.\n",
    "\n"
   ]
  },
  {
   "cell_type": "code",
   "execution_count": null,
   "id": "4a0f8b80",
   "metadata": {},
   "outputs": [],
   "source": []
  },
  {
   "cell_type": "code",
   "execution_count": 18,
   "id": "571758cb",
   "metadata": {},
   "outputs": [
    {
     "name": "stdout",
     "output_type": "stream",
     "text": [
      "Enter How many integer numbers you are going to enter10\n",
      "Enter numbers now:  80\n",
      "750\n",
      "77\n",
      "45\n",
      "65\n",
      "25\n",
      "320\n",
      "950\n",
      "780\n",
      "56\n",
      "Entered values are :  [80, 750, 77, 45, 65, 25, 320, 950, 780, 56]\n"
     ]
    },
    {
     "data": {
      "text/plain": [
       "('Sum of even numbers are ', 2936)"
      ]
     },
     "execution_count": 18,
     "metadata": {},
     "output_type": "execute_result"
    }
   ],
   "source": [
    "#1. Write a Python function that takes a list of numbers as input and returns the sum of all even numbers in\n",
    "#the list.\n",
    "\n",
    "\n",
    "def first_func(x):\n",
    "    a=[]\n",
    "    s=0\n",
    "    for i in x:\n",
    "        if i%2==0:\n",
    "            a.append(x)\n",
    "            s=s+i\n",
    "            \n",
    "    return(\"Sum of even numbers are \",s)\n",
    "\n",
    "\n",
    "\n",
    "\n",
    "x=int(input('Enter How many integer numbers you are going to enter'))\n",
    "y=[]\n",
    "print('Enter numbers now: ', end=' ')\n",
    "for i in range(x):\n",
    "    #print('Enter',i,'th number :')\n",
    "    y.append(int(input()))\n",
    "    \n",
    "print('Entered values are : ', y)\n",
    "first_func(y)"
   ]
  },
  {
   "cell_type": "code",
   "execution_count": null,
   "id": "28bc3799",
   "metadata": {},
   "outputs": [],
   "source": []
  },
  {
   "cell_type": "code",
   "execution_count": 21,
   "id": "c3d9af06",
   "metadata": {},
   "outputs": [
    {
     "name": "stdout",
     "output_type": "stream",
     "text": [
      "Enter a string : Hi !! My Name is ROHIT\n"
     ]
    },
    {
     "data": {
      "text/plain": [
       "'TIHOR si emaN yM !! iH'"
      ]
     },
     "execution_count": 21,
     "metadata": {},
     "output_type": "execute_result"
    }
   ],
   "source": [
    "# 2. Create a Python function that accepts a string and returns the reverse of that string.\n",
    "\n",
    "\n",
    "def strs(a):\n",
    "    return(a[::-1])\n",
    "\n",
    "a=input(\"Enter a string : \")\n",
    "strs(a)"
   ]
  },
  {
   "cell_type": "code",
   "execution_count": null,
   "id": "edc3f67f",
   "metadata": {},
   "outputs": [],
   "source": []
  },
  {
   "cell_type": "code",
   "execution_count": 26,
   "id": "c0a53b41",
   "metadata": {},
   "outputs": [
    {
     "name": "stdout",
     "output_type": "stream",
     "text": [
      "Enter How many integer numbers you are going to enter 5\n",
      "ENter numbers now : \n",
      "10\n",
      "5\n",
      "6\n",
      "4\n",
      "2\n",
      "Entered list is :  [10, 5, 6, 4, 2]\n"
     ]
    },
    {
     "data": {
      "text/plain": [
       "('Square of the given list are : ', [100, 25, 36, 16, 4])"
      ]
     },
     "execution_count": 26,
     "metadata": {},
     "output_type": "execute_result"
    }
   ],
   "source": [
    "#3. Implement a Python function that takes a list of integers and returns a new list containing the squares of each number.\n",
    "\n",
    "def square(x):\n",
    "    c=[]\n",
    "    for i in x:\n",
    "        c.append(i**2)\n",
    "    return(\"Square of the given list are : \",c)\n",
    "\n",
    "a=int(input(\"Enter How many integer numbers you are going to enter \"))\n",
    "b=[]\n",
    "\n",
    "print('ENter numbers now : ')\n",
    "for i in range(a):\n",
    "    b.append(int(input()))\n",
    "\n",
    "print('Entered list is : ',b)\n",
    "square(b)"
   ]
  },
  {
   "cell_type": "code",
   "execution_count": null,
   "id": "efe7cb88",
   "metadata": {},
   "outputs": [],
   "source": []
  },
  {
   "cell_type": "code",
   "execution_count": 8,
   "id": "671e5187",
   "metadata": {},
   "outputs": [
    {
     "name": "stdout",
     "output_type": "stream",
     "text": [
      "1 is not a Prime Number: \n",
      "2 is a Prime Number : \n",
      "3 is a Prime Number : \n",
      "4 is not a Prime Number : \n",
      "5 is a Prime Number : \n",
      "6 is not a Prime Number : \n",
      "7 is a Prime Number : \n",
      "8 is not a Prime Number : \n",
      "9 is not a Prime Number : \n",
      "10 is not a Prime Number : \n",
      "11 is a Prime Number : \n",
      "12 is not a Prime Number : \n",
      "13 is a Prime Number : \n",
      "14 is not a Prime Number : \n",
      "15 is not a Prime Number : \n",
      "16 is not a Prime Number : \n",
      "17 is a Prime Number : \n",
      "18 is not a Prime Number : \n",
      "19 is a Prime Number : \n",
      "20 is not a Prime Number : \n",
      "21 is not a Prime Number : \n",
      "22 is not a Prime Number : \n",
      "23 is a Prime Number : \n",
      "24 is not a Prime Number : \n",
      "25 is not a Prime Number : \n",
      "26 is not a Prime Number : \n",
      "27 is not a Prime Number : \n",
      "28 is not a Prime Number : \n",
      "29 is a Prime Number : \n",
      "30 is not a Prime Number : \n",
      "31 is a Prime Number : \n",
      "32 is not a Prime Number : \n",
      "33 is not a Prime Number : \n",
      "34 is not a Prime Number : \n",
      "35 is not a Prime Number : \n",
      "36 is not a Prime Number : \n",
      "37 is a Prime Number : \n",
      "38 is not a Prime Number : \n",
      "39 is not a Prime Number : \n",
      "40 is not a Prime Number : \n",
      "41 is a Prime Number : \n",
      "42 is not a Prime Number : \n",
      "43 is a Prime Number : \n",
      "44 is not a Prime Number : \n",
      "45 is not a Prime Number : \n",
      "46 is not a Prime Number : \n",
      "47 is a Prime Number : \n",
      "48 is not a Prime Number : \n",
      "49 is not a Prime Number : \n",
      "50 is not a Prime Number : \n",
      "51 is not a Prime Number : \n",
      "52 is not a Prime Number : \n",
      "53 is a Prime Number : \n",
      "54 is not a Prime Number : \n",
      "55 is not a Prime Number : \n",
      "56 is not a Prime Number : \n",
      "57 is not a Prime Number : \n",
      "58 is not a Prime Number : \n",
      "59 is a Prime Number : \n",
      "60 is not a Prime Number : \n",
      "61 is a Prime Number : \n",
      "62 is not a Prime Number : \n",
      "63 is not a Prime Number : \n",
      "64 is not a Prime Number : \n",
      "65 is not a Prime Number : \n",
      "66 is not a Prime Number : \n",
      "67 is a Prime Number : \n",
      "68 is not a Prime Number : \n",
      "69 is not a Prime Number : \n",
      "70 is not a Prime Number : \n",
      "71 is a Prime Number : \n",
      "72 is not a Prime Number : \n",
      "73 is a Prime Number : \n",
      "74 is not a Prime Number : \n",
      "75 is not a Prime Number : \n",
      "76 is not a Prime Number : \n",
      "77 is not a Prime Number : \n",
      "78 is not a Prime Number : \n",
      "79 is a Prime Number : \n",
      "80 is not a Prime Number : \n",
      "81 is not a Prime Number : \n",
      "82 is not a Prime Number : \n",
      "83 is a Prime Number : \n",
      "84 is not a Prime Number : \n",
      "85 is not a Prime Number : \n",
      "86 is not a Prime Number : \n",
      "87 is not a Prime Number : \n",
      "88 is not a Prime Number : \n",
      "89 is a Prime Number : \n",
      "90 is not a Prime Number : \n",
      "91 is not a Prime Number : \n",
      "92 is not a Prime Number : \n",
      "93 is not a Prime Number : \n",
      "94 is not a Prime Number : \n",
      "95 is not a Prime Number : \n",
      "96 is not a Prime Number : \n",
      "97 is a Prime Number : \n",
      "98 is not a Prime Number : \n",
      "99 is not a Prime Number : \n",
      "100 is not a Prime Number : \n",
      "101 is a Prime Number : \n",
      "102 is not a Prime Number : \n",
      "103 is a Prime Number : \n",
      "104 is not a Prime Number : \n",
      "105 is not a Prime Number : \n",
      "106 is not a Prime Number : \n",
      "107 is a Prime Number : \n",
      "108 is not a Prime Number : \n",
      "109 is a Prime Number : \n",
      "110 is not a Prime Number : \n",
      "111 is not a Prime Number : \n",
      "112 is not a Prime Number : \n",
      "113 is a Prime Number : \n",
      "114 is not a Prime Number : \n",
      "115 is not a Prime Number : \n",
      "116 is not a Prime Number : \n",
      "117 is not a Prime Number : \n",
      "118 is not a Prime Number : \n",
      "119 is not a Prime Number : \n",
      "120 is not a Prime Number : \n",
      "121 is not a Prime Number : \n",
      "122 is not a Prime Number : \n",
      "123 is not a Prime Number : \n",
      "124 is not a Prime Number : \n",
      "125 is not a Prime Number : \n",
      "126 is not a Prime Number : \n",
      "127 is a Prime Number : \n",
      "128 is not a Prime Number : \n",
      "129 is not a Prime Number : \n",
      "130 is not a Prime Number : \n",
      "131 is a Prime Number : \n",
      "132 is not a Prime Number : \n",
      "133 is not a Prime Number : \n",
      "134 is not a Prime Number : \n",
      "135 is not a Prime Number : \n",
      "136 is not a Prime Number : \n",
      "137 is a Prime Number : \n",
      "138 is not a Prime Number : \n",
      "139 is a Prime Number : \n",
      "140 is not a Prime Number : \n",
      "141 is not a Prime Number : \n",
      "142 is not a Prime Number : \n",
      "143 is not a Prime Number : \n",
      "144 is not a Prime Number : \n",
      "145 is not a Prime Number : \n",
      "146 is not a Prime Number : \n",
      "147 is not a Prime Number : \n",
      "148 is not a Prime Number : \n",
      "149 is a Prime Number : \n",
      "150 is not a Prime Number : \n",
      "151 is a Prime Number : \n",
      "152 is not a Prime Number : \n",
      "153 is not a Prime Number : \n",
      "154 is not a Prime Number : \n",
      "155 is not a Prime Number : \n",
      "156 is not a Prime Number : \n",
      "157 is a Prime Number : \n",
      "158 is not a Prime Number : \n",
      "159 is not a Prime Number : \n",
      "160 is not a Prime Number : \n",
      "161 is not a Prime Number : \n",
      "162 is not a Prime Number : \n",
      "163 is a Prime Number : \n",
      "164 is not a Prime Number : \n",
      "165 is not a Prime Number : \n",
      "166 is not a Prime Number : \n",
      "167 is a Prime Number : \n",
      "168 is not a Prime Number : \n",
      "169 is not a Prime Number : \n",
      "170 is not a Prime Number : \n",
      "171 is not a Prime Number : \n",
      "172 is not a Prime Number : \n",
      "173 is a Prime Number : \n",
      "174 is not a Prime Number : \n",
      "175 is not a Prime Number : \n",
      "176 is not a Prime Number : \n",
      "177 is not a Prime Number : \n",
      "178 is not a Prime Number : \n",
      "179 is a Prime Number : \n",
      "180 is not a Prime Number : \n",
      "181 is a Prime Number : \n",
      "182 is not a Prime Number : \n",
      "183 is not a Prime Number : \n",
      "184 is not a Prime Number : \n",
      "185 is not a Prime Number : \n",
      "186 is not a Prime Number : \n",
      "187 is not a Prime Number : \n",
      "188 is not a Prime Number : \n",
      "189 is not a Prime Number : \n",
      "190 is not a Prime Number : \n",
      "191 is a Prime Number : \n",
      "192 is not a Prime Number : \n",
      "193 is a Prime Number : \n",
      "194 is not a Prime Number : \n",
      "195 is not a Prime Number : \n",
      "196 is not a Prime Number : \n",
      "197 is a Prime Number : \n",
      "198 is not a Prime Number : \n",
      "199 is a Prime Number : \n",
      "200 is not a Prime Number : \n"
     ]
    }
   ],
   "source": [
    "#4. Write a Python function that checks if a given number is prime or not from 1 to 200.\n",
    "\n",
    "\n",
    "# for i in range(1,201):\n",
    "#     if i<=1:\n",
    "#         print(f\"{i} is not a prime number \")\n",
    "#     else:\n",
    "#         for j in range(2,i):\n",
    "#             if i%j==0:\n",
    "#                 print(f\"{i} is not a prime number\")\n",
    "#                 break\n",
    "                \n",
    "#         else :\n",
    "#             print(f\"{i} is a prime number\")\n",
    "        \n",
    "        \n",
    "def prime(n):\n",
    "    for i in range(1,n+1):\n",
    "        if i<=1:\n",
    "            print(f\"{i} is not a Prime Number: \")\n",
    "        else:\n",
    "            for j in range(2,i):\n",
    "                if i%j==0:\n",
    "                    print(f\"{i} is not a Prime Number : \")\n",
    "                    break\n",
    "            else:\n",
    "                print(f\"{i} is a Prime Number : \")\n",
    "                \n",
    "prime(200)"
   ]
  },
  {
   "cell_type": "code",
   "execution_count": 18,
   "id": "392760c4",
   "metadata": {},
   "outputs": [
    {
     "data": {
      "text/plain": [
       "<generator object fibo at 0x000001E42516BEB0>"
      ]
     },
     "execution_count": 18,
     "metadata": {},
     "output_type": "execute_result"
    }
   ],
   "source": [
    "#5. Create an iterator class in Python that generates the Fibonacci sequence up to a specified number of\n",
    "# terms.\n",
    "\n",
    "\n",
    "\n",
    "def fibo(n):\n",
    "    a=0\n",
    "    b=1\n",
    "    for i in range(n):\n",
    "        yield a\n",
    "        a,b=b,a+b\n",
    "        \n",
    "series=fibo(5)   \n",
    "series"
   ]
  },
  {
   "cell_type": "code",
   "execution_count": 19,
   "id": "9d23f623",
   "metadata": {},
   "outputs": [
    {
     "data": {
      "text/plain": [
       "0"
      ]
     },
     "execution_count": 19,
     "metadata": {},
     "output_type": "execute_result"
    }
   ],
   "source": [
    "next(series)"
   ]
  },
  {
   "cell_type": "code",
   "execution_count": 20,
   "id": "bf14af96",
   "metadata": {},
   "outputs": [
    {
     "data": {
      "text/plain": [
       "1"
      ]
     },
     "execution_count": 20,
     "metadata": {},
     "output_type": "execute_result"
    }
   ],
   "source": [
    "next(series)"
   ]
  },
  {
   "cell_type": "code",
   "execution_count": 21,
   "id": "8ca6cf9b",
   "metadata": {},
   "outputs": [
    {
     "data": {
      "text/plain": [
       "1"
      ]
     },
     "execution_count": 21,
     "metadata": {},
     "output_type": "execute_result"
    }
   ],
   "source": [
    "next(series)"
   ]
  },
  {
   "cell_type": "code",
   "execution_count": 22,
   "id": "6ac05a4e",
   "metadata": {},
   "outputs": [
    {
     "data": {
      "text/plain": [
       "2"
      ]
     },
     "execution_count": 22,
     "metadata": {},
     "output_type": "execute_result"
    }
   ],
   "source": [
    "next(series)"
   ]
  },
  {
   "cell_type": "code",
   "execution_count": 23,
   "id": "918725d9",
   "metadata": {},
   "outputs": [
    {
     "data": {
      "text/plain": [
       "3"
      ]
     },
     "execution_count": 23,
     "metadata": {},
     "output_type": "execute_result"
    }
   ],
   "source": [
    "next(series)"
   ]
  },
  {
   "cell_type": "code",
   "execution_count": 15,
   "id": "6b33c6e7",
   "metadata": {},
   "outputs": [
    {
     "name": "stdout",
     "output_type": "stream",
     "text": [
      "5\n"
     ]
    }
   ],
   "source": [
    "# 6. Write a generator function in Python that yields the powers of 2 up to a given exponent.\n",
    "\n",
    "def power(x):\n",
    "    for i in range(x+1):\n",
    "        yield(2**(i))\n",
    "        \n",
    "a=int(input())\n",
    "ob=power(a)"
   ]
  },
  {
   "cell_type": "code",
   "execution_count": 16,
   "id": "73dc0809",
   "metadata": {},
   "outputs": [
    {
     "data": {
      "text/plain": [
       "1"
      ]
     },
     "execution_count": 16,
     "metadata": {},
     "output_type": "execute_result"
    }
   ],
   "source": [
    "next(ob)"
   ]
  },
  {
   "cell_type": "code",
   "execution_count": 17,
   "id": "c604d79a",
   "metadata": {},
   "outputs": [
    {
     "data": {
      "text/plain": [
       "2"
      ]
     },
     "execution_count": 17,
     "metadata": {},
     "output_type": "execute_result"
    }
   ],
   "source": [
    "next(ob)"
   ]
  },
  {
   "cell_type": "code",
   "execution_count": 18,
   "id": "bf44c478",
   "metadata": {},
   "outputs": [
    {
     "data": {
      "text/plain": [
       "4"
      ]
     },
     "execution_count": 18,
     "metadata": {},
     "output_type": "execute_result"
    }
   ],
   "source": [
    "next(ob)"
   ]
  },
  {
   "cell_type": "code",
   "execution_count": 19,
   "id": "c20ddf74",
   "metadata": {},
   "outputs": [
    {
     "data": {
      "text/plain": [
       "8"
      ]
     },
     "execution_count": 19,
     "metadata": {},
     "output_type": "execute_result"
    }
   ],
   "source": [
    "next(ob)"
   ]
  },
  {
   "cell_type": "code",
   "execution_count": null,
   "id": "3827c796",
   "metadata": {},
   "outputs": [],
   "source": []
  },
  {
   "cell_type": "code",
   "execution_count": 25,
   "id": "82d8a015",
   "metadata": {},
   "outputs": [],
   "source": [
    "# 7. Implement a generator function that reads a file line by line and yields each line as a string.\n",
    "\n",
    "def read_file(file):\n",
    "    for line in open(file):\n",
    "        yield line\n",
    "\n",
    "# example usage\n",
    "for l in read_file(\"myfile.txt\"):\n",
    "    print(l, end=\"\")  # lines include \\n already\n"
   ]
  },
  {
   "cell_type": "code",
   "execution_count": null,
   "id": "f1a1189d",
   "metadata": {},
   "outputs": [],
   "source": []
  },
  {
   "cell_type": "code",
   "execution_count": 39,
   "id": "8a4663ad",
   "metadata": {},
   "outputs": [
    {
     "data": {
      "text/plain": [
       "[('banana', 1), ('apple', 3), ('orange', 5)]"
      ]
     },
     "execution_count": 39,
     "metadata": {},
     "output_type": "execute_result"
    }
   ],
   "source": [
    "\n",
    "# 8. Use a lambda function in Python to sort a list of tuples based on the second element of each tuple.\n",
    "\n",
    "\n",
    "l1=[(\"apple\", 3), (\"banana\", 1), (\"orange\", 5)]\n",
    "# sorted(key)\n",
    "\n",
    "# ll=lambda x: x[1]\n",
    "# ll(l1)\n",
    "\n",
    "\n",
    "sorted(l1,key=lambda x: x[1])"
   ]
  },
  {
   "cell_type": "code",
   "execution_count": 28,
   "id": "f1f947b7",
   "metadata": {},
   "outputs": [
    {
     "data": {
      "text/plain": [
       "[91.4, 82.4, 113.0, 117.5, 60.8, 122.18, 96.8]"
      ]
     },
     "execution_count": 28,
     "metadata": {},
     "output_type": "execute_result"
    }
   ],
   "source": [
    "\n",
    "# 9. Write a Python program that uses `map()` to convert a list of temperatures from Celsius to Fahrenheit.\n",
    "\n",
    "c=[33,28,45,47.5,16,50.1,36]\n",
    "\n",
    "\n",
    "list(map(lambda x: (9/5*x)+32,c))"
   ]
  },
  {
   "cell_type": "code",
   "execution_count": 24,
   "id": "c93585b3",
   "metadata": {},
   "outputs": [
    {
     "name": "stdout",
     "output_type": "stream",
     "text": [
      "Enter a string :  My Name IsRohit\n"
     ]
    },
    {
     "data": {
      "text/plain": [
       "['m', 'y', ' ', 'n', 'm', ' ', 's', 'r', 'h', 't']"
      ]
     },
     "execution_count": 24,
     "metadata": {},
     "output_type": "execute_result"
    }
   ],
   "source": [
    "\n",
    "# 10. Create a Python program that uses `filter()` to remove all the vowels from a given string.\n",
    "\n",
    "a=input(\"Enter a string :  \").lower()\n",
    "b='aeiou'\n",
    "list(filter(lambda x:x not in b ,a))"
   ]
  },
  {
   "cell_type": "code",
   "execution_count": null,
   "id": "91aedc79",
   "metadata": {},
   "outputs": [],
   "source": []
  },
  {
   "cell_type": "code",
   "execution_count": null,
   "id": "eb7edbfc",
   "metadata": {},
   "outputs": [],
   "source": []
  },
  {
   "cell_type": "code",
   "execution_count": null,
   "id": "e1a45d78",
   "metadata": {},
   "outputs": [],
   "source": []
  },
  {
   "cell_type": "code",
   "execution_count": null,
   "id": "0ece804d",
   "metadata": {},
   "outputs": [],
   "source": []
  }
 ],
 "metadata": {
  "kernelspec": {
   "display_name": "Python 3 (ipykernel)",
   "language": "python",
   "name": "python3"
  },
  "language_info": {
   "codemirror_mode": {
    "name": "ipython",
    "version": 3
   },
   "file_extension": ".py",
   "mimetype": "text/x-python",
   "name": "python",
   "nbconvert_exporter": "python",
   "pygments_lexer": "ipython3",
   "version": "3.9.12"
  }
 },
 "nbformat": 4,
 "nbformat_minor": 5
}
